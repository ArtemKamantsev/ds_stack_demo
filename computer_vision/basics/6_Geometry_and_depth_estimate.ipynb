{
 "cells": [
  {
   "cell_type": "markdown",
   "source": [
    "# Perspective imaging\n",
    "(derived using similar triangles)\n",
    "<img src=\"6_images/perspective_projection.png\" width=\"1000\">\n",
    "\n",
    "Problem: division by the (non constant) Z is non-linear\n",
    "Trick: add one more coordinate (with value 1, on <i>w</i> in general case)\n",
    "Converting from homogeneous coordinates:\n",
    "<img src=\"6_images/converting_from_homogeneous_coordinates.png\" width=\"1000\">\n",
    "\n",
    "Projection is a matrix multiplication in homogeneous coordinates:\n",
    "<img src=\"6_images/projection_matrix.png\" width=\"1000\">\n",
    "(invariant to the scale factor)\n",
    "\n",
    "## Vanishing point\n",
    "Almost all parallel lines intersects after perspective projection (lines parallel to the projection plane stay parallel):\n",
    "<img src=\"6_images/vanishing_point.png\" width=\"1000\">\n",
    "\n",
    "## Other types of projection\n",
    "1. Orthogonal Projection (parallel projection), (x,y,z) -> (x, y)\n",
    "Projection matrix:\n",
    "<img src=\"6_images/orthogonal_projection.png\" width=\"1000\">\n",
    "\n",
    "2. Weak perspective projection. Basic idea: difference in <i>z</i> coordinate of different objects is not significant compared to the distance to the camera\n",
    "<img src=\"6_images/weak_perspective_projection.png\" width=\"1000\">"
   ],
   "metadata": {
    "collapsed": false
   }
  },
  {
   "cell_type": "markdown",
   "source": [
    "# Stereo geometry\n",
    "\n",
    "Human ways of depth perception:\n",
    "1. Perspective effect (we know real object sizes and compare them to sizes we actually see)\n",
    "2. Shading - the light falls differently on different depth\n",
    "3. Texture - the same texture looks differently depending on depth\n",
    "4. Focus/defocus\n",
    "5. Motion\n",
    "\n",
    "Basic idea of stereo images: two slightly different images. Human vision system lines up little local pixel areas to make a stereo and then process the image to recognize objects.\n",
    "\n",
    "Geometry for a simple stereo system (f - focal length, $x_{l}$ is positive, $x_{r}$ is negative)\n",
    "<img src=\"6_images/simple_stereo_system.png\" width=\"1200\">\n",
    "Disparity map:\n",
    "<img src=\"6_images/disparity_map.png\" width=\"1200\">\n",
    "Evidence: distant objects have lower disparity then close objects. Disparity is invertially proportional to the depth. (Moon follows you!)\n"
   ],
   "metadata": {
    "collapsed": false
   }
  },
  {
   "cell_type": "markdown",
   "source": [
    "# Epipolar geometry\n",
    "\n",
    "We have 2 cameras filming the same point P (exact location is unknown) from different known positions (O, O').\n",
    "Given point p in left image, corresponding point p' on the right image belongs to the line l'.\n",
    "\n",
    "Baseline: line joining the camera centers (OO')\n",
    "Epipolar plane: plane containing baseline and world point (OO'P)\n",
    "Epipolar line: intersection of epipolar plane with the image plane - come in pairs (l, l')\n",
    "Epipole: point of intersection of baseline with image plane (e, e'). All epipolar lines intersect in this point (except the case of the case of parallel image planes. In this case epipolar lines are parallel and intersect at infinity)\n",
    "<img src=\"6_images/epipolar_geometry.png\" width=\"1200\">"
   ],
   "metadata": {
    "collapsed": false
   }
  },
  {
   "cell_type": "markdown",
   "source": [
    "# Stereo correspondence\n",
    "\n",
    "Beyond the hard constraint of epipolar geometry, there are \"soft\" constraints to help identify correspondence points:\n",
    "1. Similarity - pixels should look similar on the left and on the right images\n",
    "2. Uniqueness - there is NO MORE than 1 pixel in the right image mathing the pixel on the left image\n",
    "3. Ordering - pixels goes A, B, C on the left image go A, B, C on the right image\n",
    "4. Disparity gradient is limited - disparity doesn't change too quickly\n",
    "\n",
    "Based on similarity constraint: we could search for left set of pixels on the right image's epipolar line using normalized cross-correlation.\n",
    "Problem: texture-less window. Small window does not catch details, large window - losses variations in depth of small details\n",
    "<img src=\"6_images/cross_correlation_window_size.png\" width=\"1200\">\n",
    "\n",
    "Uniqueness constraint allows no match between pixels on the left and the right image because of the Occlusion problem:\n",
    "<img src=\"6_images/occlusion.png\" width=\"800\">\n",
    "\n",
    "Ordering constraint could be violated in the next situations:\n",
    "<img src=\"6_images/ordering_constraint1.png\" width=\"800\">\n",
    "\n",
    "Better approaches: estimate correspondence jointly instead of individual correspondence.\n",
    "\n",
    "1. Scanline method: use Dynamic Programming to match pixels over pair of epipolar lines.\n",
    "<img src=\"6_images/scanline.png\" width=\"800\">\n",
    "\n",
    "2. Energy minimization:\n",
    "\n",
    "<p><img src=\"6_images/em_data_term.png\" width=\"800\"></p>\n",
    "<p><img src=\"6_images/em_smoothness_term.png\" width=\"800\"></p>\n",
    "<p><img src=\"6_images/em_total_energy.png\" width=\"800\"></p>\n",
    "\n",
    "3. Graph cut algorithms\n",
    "\n",
    "Challenges:\n",
    "1. Low-contrast; textureless image regions\n",
    "2. Occlusion\n",
    "3. Violation of brightness constancy (e.g. specular reflection)\n",
    "4. Really large baselines\n",
    "5. Camera calibration errors"
   ],
   "metadata": {
    "collapsed": false
   }
  },
  {
   "cell_type": "code",
   "execution_count": null,
   "outputs": [],
   "source": [],
   "metadata": {
    "collapsed": false
   }
  }
 ],
 "metadata": {
  "kernelspec": {
   "display_name": "Python 3",
   "language": "python",
   "name": "python3"
  },
  "language_info": {
   "codemirror_mode": {
    "name": "ipython",
    "version": 2
   },
   "file_extension": ".py",
   "mimetype": "text/x-python",
   "name": "python",
   "nbconvert_exporter": "python",
   "pygments_lexer": "ipython2",
   "version": "2.7.6"
  }
 },
 "nbformat": 4,
 "nbformat_minor": 0
}
