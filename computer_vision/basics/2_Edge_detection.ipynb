{
 "cells": [
  {
   "cell_type": "markdown",
   "source": [
    "# Origin of Edges"
   ],
   "metadata": {
    "collapsed": false
   }
  },
  {
   "cell_type": "markdown",
   "source": [
    "<img src=\"2_images/origin_of_edges.png\" width=\"500\">"
   ],
   "metadata": {
    "collapsed": false
   }
  },
  {
   "cell_type": "markdown",
   "source": [
    "# Gradients"
   ],
   "metadata": {
    "collapsed": false
   }
  },
  {
   "cell_type": "markdown",
   "source": [
    "Simplest gradient:\n",
    "<img src=\"2_images/gradient_simplest.png\" width=\"250\">\n",
    "\n",
    "Sobel operator (also looks nearby):\n",
    "<img src=\"2_images/gradient_sobel_operator.png\" width=\"500\">\n",
    "\n",
    "Other popular gradient filters:\n",
    "<img src=\"2_images/gradient_popular.png\" width=\"400\">\n",
    "\n",
    "But in real images we have a lot of noise and we need to smooth image before gradient calculation (h filter). Using associative property we could optimize it:\n",
    "d(h*f)/dx = d(h)/dx * f\n",
    "The filter will look like this:\n",
    "<img src=\"2_images/derivative_first_smoothed.png\" width=\"150\">\n",
    "\n",
    "σ parameter of smoothing Gaussian has the following effect:\n",
    "<img src=\"2_images/gradient_smoothing_sigma_impact.png\" width=\"500\">"
   ],
   "metadata": {
    "collapsed": false
   }
  },
  {
   "cell_type": "markdown",
   "source": [
    "## Edge detection using gradients"
   ],
   "metadata": {
    "collapsed": false
   }
  },
  {
   "cell_type": "markdown",
   "source": [
    "To detect the edge we need to calculate 2nd derivative on the smoothed image and find zero-crossing point. The filter will look like this (inverted mexican hat):\n",
    "<img src=\"2_images/derivative_second_smoothed.png\" width=\"150\">\n",
    "\n",
    "Note: in this context we use 2nd derivative to find critical points of 1st derivative. Also, 2nd derivative has physical meaning of acceleration and variance of 2nd derivative could be used as blureness measure."
   ],
   "metadata": {
    "collapsed": false
   }
  },
  {
   "cell_type": "markdown",
   "source": [
    "### 2d case"
   ],
   "metadata": {
    "collapsed": false
   }
  },
  {
   "cell_type": "markdown",
   "source": [
    "<img src=\"2_images/derivative_second_smoothed_2d.png\" width=\"500\">"
   ],
   "metadata": {
    "collapsed": false
   }
  },
  {
   "cell_type": "markdown",
   "source": [
    "# Canny Edge detection"
   ],
   "metadata": {
    "collapsed": false
   }
  },
  {
   "cell_type": "markdown",
   "source": [
    "1. Filer image with derivative of Gaussian\n",
    "2. Find magnitude and orientation of gradient\n",
    "3. Non-maximum suppression. Thin multi-pixel wide \"ridges\" down to single pixel width.\n",
    "4. Link and threshold:\n",
    "    4.1 Apply high threshold to detect strong edge pixels\n",
    "    4.2 Link those strong edge pixels to form strong edges\n",
    "    4.3 Apply a low threshold to find weak but plausible edge pixels\n",
    "    4.4 Extend the strong edges to follow weak edge pixels"
   ],
   "metadata": {
    "collapsed": false,
    "pycharm": {
     "name": "#%% md\n"
    }
   }
  },
  {
   "cell_type": "markdown",
   "source": [
    "# Template matching (normalized cross-correlation)\n",
    "\n",
    "If we have normalized signal (mean 0 and std 1), we could pull out some part of that signal and use it as a filter for cross-correlation. Resulting signal should have a maximum value at the point of filter matching the signal. Intuition: positive * positive + negative * negative gives the maximum.\n",
    "<img src=\"2_images/normalized_cross_correlation.png\" width=\"1200\">"
   ],
   "metadata": {
    "collapsed": false
   }
  }
 ],
 "metadata": {
  "kernelspec": {
   "display_name": "Python 3",
   "language": "python",
   "name": "python3"
  },
  "language_info": {
   "codemirror_mode": {
    "name": "ipython",
    "version": 2
   },
   "file_extension": ".py",
   "mimetype": "text/x-python",
   "name": "python",
   "nbconvert_exporter": "python",
   "pygments_lexer": "ipython2",
   "version": "2.7.6"
  }
 },
 "nbformat": 4,
 "nbformat_minor": 0
}
