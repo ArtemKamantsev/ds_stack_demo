{
 "cells": [
  {
   "cell_type": "markdown",
   "source": [
    "# Pinhole camera\n",
    "\n",
    "Pinhole name - 'aperture'. Image is upside down.\n",
    "<img src=\"5_images/pinhole_camera_scheme.png\" width=\"1000\">\n",
    "\n",
    "If size of the aperture is large - a lot of rays from the single point will pass through.\n",
    "If size of the aperture is small - diffraction effect takes place.\n",
    "<img src=\"5_images/aperture_size_impact.png\" width=\"1000\">\n",
    "\n",
    "# Lenses\n",
    "General scheme of the lenses:\n",
    "<img src=\"5_images/lenses_scheme.png\" width=\"1000\">\n",
    "\n",
    "## The Thin Lens Equation\n",
    "Using pairs of similar triangles it is possible to derive The Thin Lens Equation:\n",
    "<img src=\"5_images/thin_lens_equation.png\" width=\"1000\">\n",
    "\n",
    "## Depth of Field\n",
    "The aperture controls how much space in depth is in focus.\n",
    "If the aperture is <b>large</b> - very <b>small</b> movements of the object allowed to keep it in the focus.\n",
    "If the aperture is <b>small</b> - <b>large</b> movements of the object allowed to keep it in the focus\n",
    "<img src=\"5_images/depth_of_field.png\" width=\"750\">\n",
    "\n",
    "## Filed Of View (FOV)\n",
    "FOV is the function of focal length. The larger focal length the smaller FOV and the bigger zoom.\n",
    "<img src=\"5_images/fov_and_focal_length.png\" width=\"1000\">\n",
    "Note: moving and zooming is not the same, we will get different perspective distortion:\n",
    "<img src=\"5_images/moving_vs_zooming.png\" width=\"1000\">\n",
    "Dolly zoom: increase FOV (decrease focal length) -> decrease zoom and move the camera closer. You will get the object of the same size but with different perspective distortion.\n",
    "\n",
    "## Typical problems\n",
    "1. Distortions:\n",
    "<img src=\"5_images/distortions.png\" width=\"1000\">\n",
    "\n",
    "2. Chromatic Aberration (light of different color goes through the lens differently\n",
    "3. Vignetting (for different point of picture different number of rays hit the medium)\n",
    "Solving strategy: complex system of lenses.\n"
   ],
   "metadata": {
    "collapsed": false
   }
  }
 ],
 "metadata": {
  "kernelspec": {
   "display_name": "Python 3",
   "language": "python",
   "name": "python3"
  },
  "language_info": {
   "codemirror_mode": {
    "name": "ipython",
    "version": 2
   },
   "file_extension": ".py",
   "mimetype": "text/x-python",
   "name": "python",
   "nbconvert_exporter": "python",
   "pygments_lexer": "ipython2",
   "version": "2.7.6"
  }
 },
 "nbformat": 4,
 "nbformat_minor": 0
}
