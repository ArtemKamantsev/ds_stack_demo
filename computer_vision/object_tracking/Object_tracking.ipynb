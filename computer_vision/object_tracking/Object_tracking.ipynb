{
 "cells": [
  {
   "metadata": {},
   "cell_type": "markdown",
   "source": [
    "# Classifications\n",
    "Classification based on track build stratery:\n",
    "1. Motion based -  detect moving objects based on changes in pixel intensities\n",
    "2. Based of first frame detections - detect objects on the first frame, describe it by some features, then find them in further frames (usually search in neighbourgood)\n",
    "3. Tracking by detection - detect objects on all frames and use algorithm to match them into tracks. The most popular approach.\n",
    "4. Neural networks - use neural network to extract tracks.\n",
    "\n",
    "Classification based on frames utilization strategy:\n",
    "1. Online - only current and previous frames are used\n",
    "2. Offline - all frames are used. Global-link - offline approach to the tracking, can significantly improve results.\n",
    "\n",
    "# DeepSORT\n",
    "&emsp; It employs a Kalman filter for robust estimation of position of each object in the next frame. Kalman filter has an assumption about constant object velocity.\\\n",
    "&emsp; Also it uses Neural Network to encode an appearance of each tracking instance.\\\n",
    "&emsp; Then, each detection in the next frame is assigned to the some track based on 2 distances:\n",
    "1. Squared Mahalanobis distance between predicted Kalman states and newly arrived measurements. Mahalanobis distance measures distance between a point and a distribution. The Mahalanobis distance takes state estimation uncertainty into account by measuring how many standard deviations the detection is away from the mean track location.\n",
    "2. Cosine distance between object appearance encodings\n",
    "\n",
    "# ByteSORT\n",
    "&emsp; This is not standalone algorithm, it is enhancement what could be applied to almost any tracking algorithm.\\\n",
    "&emsp; The key idea is: tracking algorithms often suffer from low probability objects discardion. Authors suggest do not discard low probability detections, but instead split all detections to the 2 groups: with high and low detection probability and then apply tracking algorithm sequentially to the first and second groups.\\\n",
    "&emsp; This approach allowed to significantly improve the quality of many object tracking algorithms.\n",
    "\n",
    "BoT-SORT\n",
    "&emsp; This tracking algorithm uses several improvements over DeepSORT:\n",
    "1. ByteSORT approach is applied\n",
    "2. Kalman filter parametrized by bounding box width and height directly (instead of height/area + aspect ratio used in previous works).\n",
    "3. Camera Motion Compensation is applied (OpenCV implementation of the Video Stabilization module with affine transformation is applied for image registration task)\n",
    "4. Classic approach to the combination of Appearance cost and Motion cost using weighted sum was rejected.  Authors applied the following approach: low cosine similarity or far away candidates, in terms of IoU’s score, are rejected. Then, we use the minimum in each element of the matrices as the final value of our cost matrix C.\n",
    "\n",
    "BoT-SORT is slightly more accurate than the ByteSort, but 5 times slower.\n"
   ],
   "id": "5ca62d6f4a673616"
  },
  {
   "metadata": {},
   "cell_type": "markdown",
   "source": [
    "TODO:\n",
    "1. Explore and describe standard metrics used for this taks (benchmarck also worth mentioning)\n",
    "2. Experiment with real video, especially with cases with non-linear motion (cars turn to the corner)\n",
    "3. Find typical problems and drawbacks"
   ],
   "id": "5dad4143e8d33d95"
  }
 ],
 "metadata": {
  "kernelspec": {
   "display_name": "Python 3",
   "language": "python",
   "name": "python3"
  },
  "language_info": {
   "codemirror_mode": {
    "name": "ipython",
    "version": 2
   },
   "file_extension": ".py",
   "mimetype": "text/x-python",
   "name": "python",
   "nbconvert_exporter": "python",
   "pygments_lexer": "ipython2",
   "version": "2.7.6"
  }
 },
 "nbformat": 4,
 "nbformat_minor": 5
}
